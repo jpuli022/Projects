{
 "cells": [
  {
   "cell_type": "code",
   "execution_count": 7,
   "metadata": {},
   "outputs": [],
   "source": [
    "import requests\n",
    "import os"
   ]
  },
  {
   "cell_type": "code",
   "execution_count": 8,
   "metadata": {},
   "outputs": [],
   "source": [
    "CLIENT_ID = 'CiliTSr3rns7fnbAzirGmm8Z0NGhxG6m1B9WsuUMyU3_UXezQkgPn0IDeTNGa2WR'\n",
    "CLIENT_SECRET = 'p-AWabaiA6k809lnJQNJXvxNT4QKHtWThoaXvUYKmUAtxpsGzI9tXZEcMfP6LgswSumiLPhLMUC5sI4TcKue4g'\n",
    "CLIENT_ACCESS_TOKEN = 'p5Z8a_ashB5jzq2zajqIcyL45OUBivWni0IH-rU9LGdzdHeAwOZE7Qk5GquUbIfS'"
   ]
  },
  {
   "cell_type": "code",
   "execution_count": 16,
   "metadata": {},
   "outputs": [],
   "source": [
    "# response 200 = Succesful \n",
    "tswift = requests.get('http://api.genius.com/search?q=Taylor%20Swift',params={'access_token': CLIENT_ACCESS_TOKEN})"
   ]
  },
  {
   "cell_type": "code",
   "execution_count": 19,
   "metadata": {},
   "outputs": [],
   "source": [
    "import json"
   ]
  },
  {
   "cell_type": "code",
   "execution_count": 23,
   "metadata": {},
   "outputs": [
    {
     "data": {
      "text/plain": [
       "dict"
      ]
     },
     "execution_count": 23,
     "metadata": {},
     "output_type": "execute_result"
    }
   ],
   "source": [
    "type(tswift_json)"
   ]
  },
  {
   "cell_type": "code",
   "execution_count": 24,
   "metadata": {},
   "outputs": [
    {
     "data": {
      "text/plain": [
       "{'meta': {'status': 200},\n",
       " 'response': {'hits': [{'highlights': [],\n",
       "    'index': 'song',\n",
       "    'type': 'song',\n",
       "    'result': {'annotation_count': 49,\n",
       "     'api_path': '/songs/7076626',\n",
       "     'artist_names': 'Taylor Swift',\n",
       "     'full_title': \"All Too Well (10 Minute Version) (Taylor's Version) [From The Vault] by\\xa0Taylor\\xa0Swift\",\n",
       "     'header_image_thumbnail_url': 'https://images.genius.com/aac8ea3f13ae887a7f1fd9cdd451374e.300x300x1.png',\n",
       "     'header_image_url': 'https://images.genius.com/aac8ea3f13ae887a7f1fd9cdd451374e.1000x1000x1.png',\n",
       "     'id': 7076626,\n",
       "     'lyrics_owner_id': 12603744,\n",
       "     'lyrics_state': 'complete',\n",
       "     'path': '/Taylor-swift-all-too-well-10-minute-version-taylors-version-from-the-vault-lyrics',\n",
       "     'primary_artist_names': 'Taylor Swift',\n",
       "     'pyongs_count': 223,\n",
       "     'relationships_index_url': 'https://genius.com/Taylor-swift-all-too-well-10-minute-version-taylors-version-from-the-vault-sample',\n",
       "     'release_date_components': {'year': 2021, 'month': 11, 'day': 12},\n",
       "     'release_date_for_display': 'November 12, 2021',\n",
       "     'release_date_with_abbreviated_month_for_display': 'Nov. 12, 2021',\n",
       "     'song_art_image_thumbnail_url': 'https://images.genius.com/9dd4ba749dd51d39d7b56b67b9cc3777.300x300x1.jpg',\n",
       "     'song_art_image_url': 'https://images.genius.com/9dd4ba749dd51d39d7b56b67b9cc3777.1000x1000x1.jpg',\n",
       "     'stats': {'unreviewed_annotations': 12,\n",
       "      'concurrents': 13,\n",
       "      'hot': False,\n",
       "      'pageviews': 4889469},\n",
       "     'title': 'All Too Well (10 Minute Version) (Taylor’s Version) [From The Vault]',\n",
       "     'title_with_featured': \"All Too Well (10 Minute Version) (Taylor's Version) [From The Vault]\",\n",
       "     'url': 'https://genius.com/Taylor-swift-all-too-well-10-minute-version-taylors-version-from-the-vault-lyrics',\n",
       "     'featured_artists': [],\n",
       "     'primary_artist': {'api_path': '/artists/1177',\n",
       "      'header_image_url': 'https://images.genius.com/1290896984554842b40f2450be157203.1000x333x1.jpg',\n",
       "      'id': 1177,\n",
       "      'image_url': 'https://images.genius.com/df4a816f593b08bc8a361ad58a848640.1000x1000x1.jpg',\n",
       "      'is_meme_verified': True,\n",
       "      'is_verified': True,\n",
       "      'name': 'Taylor Swift',\n",
       "      'url': 'https://genius.com/artists/Taylor-swift',\n",
       "      'iq': 1544},\n",
       "     'primary_artists': [{'api_path': '/artists/1177',\n",
       "       'header_image_url': 'https://images.genius.com/1290896984554842b40f2450be157203.1000x333x1.jpg',\n",
       "       'id': 1177,\n",
       "       'image_url': 'https://images.genius.com/df4a816f593b08bc8a361ad58a848640.1000x1000x1.jpg',\n",
       "       'is_meme_verified': True,\n",
       "       'is_verified': True,\n",
       "       'name': 'Taylor Swift',\n",
       "       'url': 'https://genius.com/artists/Taylor-swift',\n",
       "       'iq': 1544}]}},\n",
       "   {'highlights': [],\n",
       "    'index': 'song',\n",
       "    'type': 'song',\n",
       "    'result': {'annotation_count': 35,\n",
       "     'api_path': '/songs/7394358',\n",
       "     'artist_names': 'Taylor Swift',\n",
       "     'full_title': \"All Too Well (10 Minute Version) (Taylor's Version) [Live Acoustic] by\\xa0Taylor\\xa0Swift\",\n",
       "     'header_image_thumbnail_url': 'https://images.genius.com/fb18a1248bb4cd26893dea7e3610b0d5.300x300x1.jpg',\n",
       "     'header_image_url': 'https://images.genius.com/fb18a1248bb4cd26893dea7e3610b0d5.1000x1000x1.jpg',\n",
       "     'id': 7394358,\n",
       "     'lyrics_owner_id': 6878633,\n",
       "     'lyrics_state': 'complete',\n",
       "     'path': '/Taylor-swift-all-too-well-10-minute-version-taylors-version-live-acoustic-lyrics',\n",
       "     'primary_artist_names': 'Taylor Swift',\n",
       "     'pyongs_count': 52,\n",
       "     'relationships_index_url': 'https://genius.com/Taylor-swift-all-too-well-10-minute-version-taylors-version-live-acoustic-sample',\n",
       "     'release_date_components': {'year': 2021, 'month': 11, 'day': 15},\n",
       "     'release_date_for_display': 'November 15, 2021',\n",
       "     'release_date_with_abbreviated_month_for_display': 'Nov. 15, 2021',\n",
       "     'song_art_image_thumbnail_url': 'https://images.genius.com/fb18a1248bb4cd26893dea7e3610b0d5.300x300x1.jpg',\n",
       "     'song_art_image_url': 'https://images.genius.com/fb18a1248bb4cd26893dea7e3610b0d5.1000x1000x1.jpg',\n",
       "     'stats': {'unreviewed_annotations': 7,\n",
       "      'concurrents': 3,\n",
       "      'hot': False,\n",
       "      'pageviews': 3934914},\n",
       "     'title': 'All Too Well (10 Minute Version) (Taylor’s Version) [Live Acoustic]',\n",
       "     'title_with_featured': \"All Too Well (10 Minute Version) (Taylor's Version) [Live Acoustic]\",\n",
       "     'url': 'https://genius.com/Taylor-swift-all-too-well-10-minute-version-taylors-version-live-acoustic-lyrics',\n",
       "     'featured_artists': [],\n",
       "     'primary_artist': {'api_path': '/artists/1177',\n",
       "      'header_image_url': 'https://images.genius.com/1290896984554842b40f2450be157203.1000x333x1.jpg',\n",
       "      'id': 1177,\n",
       "      'image_url': 'https://images.genius.com/df4a816f593b08bc8a361ad58a848640.1000x1000x1.jpg',\n",
       "      'is_meme_verified': True,\n",
       "      'is_verified': True,\n",
       "      'name': 'Taylor Swift',\n",
       "      'url': 'https://genius.com/artists/Taylor-swift',\n",
       "      'iq': 1544},\n",
       "     'primary_artists': [{'api_path': '/artists/1177',\n",
       "       'header_image_url': 'https://images.genius.com/1290896984554842b40f2450be157203.1000x333x1.jpg',\n",
       "       'id': 1177,\n",
       "       'image_url': 'https://images.genius.com/df4a816f593b08bc8a361ad58a848640.1000x1000x1.jpg',\n",
       "       'is_meme_verified': True,\n",
       "       'is_verified': True,\n",
       "       'name': 'Taylor Swift',\n",
       "       'url': 'https://genius.com/artists/Taylor-swift',\n",
       "       'iq': 1544}]}},\n",
       "   {'highlights': [],\n",
       "    'index': 'song',\n",
       "    'type': 'song',\n",
       "    'result': {'annotation_count': 16,\n",
       "     'api_path': '/songs/10024009',\n",
       "     'artist_names': 'Taylor Swift (Ft. Post Malone)',\n",
       "     'full_title': 'Fortnight by\\xa0Taylor\\xa0Swift (Ft.\\xa0Post\\xa0Malone)',\n",
       "     'header_image_thumbnail_url': 'https://images.genius.com/9e602eb80c004d0302187f908fa5afea.300x300x1.png',\n",
       "     'header_image_url': 'https://images.genius.com/9e602eb80c004d0302187f908fa5afea.1000x1000x1.png',\n",
       "     'id': 10024009,\n",
       "     'lyrics_owner_id': 5748418,\n",
       "     'lyrics_state': 'complete',\n",
       "     'path': '/Taylor-swift-fortnight-lyrics',\n",
       "     'primary_artist_names': 'Taylor Swift',\n",
       "     'pyongs_count': 18,\n",
       "     'relationships_index_url': 'https://genius.com/Taylor-swift-fortnight-sample',\n",
       "     'release_date_components': {'year': 2024, 'month': 4, 'day': 19},\n",
       "     'release_date_for_display': 'April 19, 2024',\n",
       "     'release_date_with_abbreviated_month_for_display': 'Apr. 19, 2024',\n",
       "     'song_art_image_thumbnail_url': 'https://images.genius.com/9e602eb80c004d0302187f908fa5afea.300x300x1.png',\n",
       "     'song_art_image_url': 'https://images.genius.com/9e602eb80c004d0302187f908fa5afea.1000x1000x1.png',\n",
       "     'stats': {'unreviewed_annotations': 5,\n",
       "      'concurrents': 11,\n",
       "      'hot': False,\n",
       "      'pageviews': 3403976},\n",
       "     'title': 'Fortnight',\n",
       "     'title_with_featured': 'Fortnight (Ft.\\xa0Post\\xa0Malone)',\n",
       "     'url': 'https://genius.com/Taylor-swift-fortnight-lyrics',\n",
       "     'featured_artists': [{'api_path': '/artists/326362',\n",
       "       'header_image_url': 'https://images.genius.com/1cc70a5e8d2d4c7a16635170b2d8cac1.1000x563x1.jpg',\n",
       "       'id': 326362,\n",
       "       'image_url': 'https://images.genius.com/e4627140404ae42d185c85c2c2c9c339.960x960x1.jpg',\n",
       "       'is_meme_verified': True,\n",
       "       'is_verified': True,\n",
       "       'name': 'Post Malone',\n",
       "       'url': 'https://genius.com/artists/Post-malone',\n",
       "       'iq': 15976}],\n",
       "     'primary_artist': {'api_path': '/artists/1177',\n",
       "      'header_image_url': 'https://images.genius.com/1290896984554842b40f2450be157203.1000x333x1.jpg',\n",
       "      'id': 1177,\n",
       "      'image_url': 'https://images.genius.com/df4a816f593b08bc8a361ad58a848640.1000x1000x1.jpg',\n",
       "      'is_meme_verified': True,\n",
       "      'is_verified': True,\n",
       "      'name': 'Taylor Swift',\n",
       "      'url': 'https://genius.com/artists/Taylor-swift',\n",
       "      'iq': 1544},\n",
       "     'primary_artists': [{'api_path': '/artists/1177',\n",
       "       'header_image_url': 'https://images.genius.com/1290896984554842b40f2450be157203.1000x333x1.jpg',\n",
       "       'id': 1177,\n",
       "       'image_url': 'https://images.genius.com/df4a816f593b08bc8a361ad58a848640.1000x1000x1.jpg',\n",
       "       'is_meme_verified': True,\n",
       "       'is_verified': True,\n",
       "       'name': 'Taylor Swift',\n",
       "       'url': 'https://genius.com/artists/Taylor-swift',\n",
       "       'iq': 1544}]}},\n",
       "   {'highlights': [],\n",
       "    'index': 'song',\n",
       "    'type': 'song',\n",
       "    'result': {'annotation_count': 26,\n",
       "     'api_path': '/songs/5793984',\n",
       "     'artist_names': 'Taylor Swift',\n",
       "     'full_title': '\\u200bcardigan by\\xa0Taylor\\xa0Swift',\n",
       "     'header_image_thumbnail_url': 'https://images.genius.com/282838f51b2395aba0e0084dd02f1774.300x300x1.png',\n",
       "     'header_image_url': 'https://images.genius.com/282838f51b2395aba0e0084dd02f1774.1000x1000x1.png',\n",
       "     'id': 5793984,\n",
       "     'lyrics_owner_id': 5748418,\n",
       "     'lyrics_state': 'complete',\n",
       "     'path': '/Taylor-swift-cardigan-lyrics',\n",
       "     'primary_artist_names': 'Taylor Swift',\n",
       "     'pyongs_count': 174,\n",
       "     'relationships_index_url': 'https://genius.com/Taylor-swift-cardigan-sample',\n",
       "     'release_date_components': {'year': 2020, 'month': 7, 'day': 24},\n",
       "     'release_date_for_display': 'July 24, 2020',\n",
       "     'release_date_with_abbreviated_month_for_display': 'Jul. 24, 2020',\n",
       "     'song_art_image_thumbnail_url': 'https://images.genius.com/8c6b44171caaa726820cce35ad8b066e.300x300x1.png',\n",
       "     'song_art_image_url': 'https://images.genius.com/8c6b44171caaa726820cce35ad8b066e.1000x1000x1.png',\n",
       "     'stats': {'unreviewed_annotations': 0,\n",
       "      'concurrents': 2,\n",
       "      'hot': False,\n",
       "      'pageviews': 3282648},\n",
       "     'title': '\\u200bcardigan',\n",
       "     'title_with_featured': '\\u200bcardigan',\n",
       "     'url': 'https://genius.com/Taylor-swift-cardigan-lyrics',\n",
       "     'featured_artists': [],\n",
       "     'primary_artist': {'api_path': '/artists/1177',\n",
       "      'header_image_url': 'https://images.genius.com/1290896984554842b40f2450be157203.1000x333x1.jpg',\n",
       "      'id': 1177,\n",
       "      'image_url': 'https://images.genius.com/df4a816f593b08bc8a361ad58a848640.1000x1000x1.jpg',\n",
       "      'is_meme_verified': True,\n",
       "      'is_verified': True,\n",
       "      'name': 'Taylor Swift',\n",
       "      'url': 'https://genius.com/artists/Taylor-swift',\n",
       "      'iq': 1544},\n",
       "     'primary_artists': [{'api_path': '/artists/1177',\n",
       "       'header_image_url': 'https://images.genius.com/1290896984554842b40f2450be157203.1000x333x1.jpg',\n",
       "       'id': 1177,\n",
       "       'image_url': 'https://images.genius.com/df4a816f593b08bc8a361ad58a848640.1000x1000x1.jpg',\n",
       "       'is_meme_verified': True,\n",
       "       'is_verified': True,\n",
       "       'name': 'Taylor Swift',\n",
       "       'url': 'https://genius.com/artists/Taylor-swift',\n",
       "       'iq': 1544}]}},\n",
       "   {'highlights': [],\n",
       "    'index': 'song',\n",
       "    'type': 'song',\n",
       "    'result': {'annotation_count': 20,\n",
       "     'api_path': '/songs/5793983',\n",
       "     'artist_names': 'Taylor Swift (Ft. Bon Iver)',\n",
       "     'full_title': '\\u200bexile by\\xa0Taylor\\xa0Swift (Ft.\\xa0Bon\\xa0Iver)',\n",
       "     'header_image_thumbnail_url': 'https://images.genius.com/4a6a06f7e361703062b0db46d0e4ec36.300x300x1.png',\n",
       "     'header_image_url': 'https://images.genius.com/4a6a06f7e361703062b0db46d0e4ec36.1000x1000x1.png',\n",
       "     'id': 5793983,\n",
       "     'lyrics_owner_id': 3995752,\n",
       "     'lyrics_state': 'complete',\n",
       "     'path': '/Taylor-swift-exile-lyrics',\n",
       "     'primary_artist_names': 'Taylor Swift',\n",
       "     'pyongs_count': 111,\n",
       "     'relationships_index_url': 'https://genius.com/Taylor-swift-exile-sample',\n",
       "     'release_date_components': {'year': 2020, 'month': 7, 'day': 24},\n",
       "     'release_date_for_display': 'July 24, 2020',\n",
       "     'release_date_with_abbreviated_month_for_display': 'Jul. 24, 2020',\n",
       "     'song_art_image_thumbnail_url': 'https://images.genius.com/4a6a06f7e361703062b0db46d0e4ec36.300x300x1.png',\n",
       "     'song_art_image_url': 'https://images.genius.com/4a6a06f7e361703062b0db46d0e4ec36.1000x1000x1.png',\n",
       "     'stats': {'unreviewed_annotations': 8,\n",
       "      'concurrents': 2,\n",
       "      'hot': False,\n",
       "      'pageviews': 2677991},\n",
       "     'title': '\\u200bexile',\n",
       "     'title_with_featured': '\\u200bexile (Ft.\\xa0Bon\\xa0Iver)',\n",
       "     'url': 'https://genius.com/Taylor-swift-exile-lyrics',\n",
       "     'featured_artists': [{'api_path': '/artists/589',\n",
       "       'header_image_url': 'https://images.genius.com/68ae4abb1941980b728eea32c64e11ed.975x180x1.png',\n",
       "       'id': 589,\n",
       "       'image_url': 'https://images.genius.com/f2314f39e56a73d1fb5a716bbe154556.1000x1000x1.jpg',\n",
       "       'is_meme_verified': False,\n",
       "       'is_verified': False,\n",
       "       'name': 'Bon Iver',\n",
       "       'url': 'https://genius.com/artists/Bon-iver'}],\n",
       "     'primary_artist': {'api_path': '/artists/1177',\n",
       "      'header_image_url': 'https://images.genius.com/1290896984554842b40f2450be157203.1000x333x1.jpg',\n",
       "      'id': 1177,\n",
       "      'image_url': 'https://images.genius.com/df4a816f593b08bc8a361ad58a848640.1000x1000x1.jpg',\n",
       "      'is_meme_verified': True,\n",
       "      'is_verified': True,\n",
       "      'name': 'Taylor Swift',\n",
       "      'url': 'https://genius.com/artists/Taylor-swift',\n",
       "      'iq': 1544},\n",
       "     'primary_artists': [{'api_path': '/artists/1177',\n",
       "       'header_image_url': 'https://images.genius.com/1290896984554842b40f2450be157203.1000x333x1.jpg',\n",
       "       'id': 1177,\n",
       "       'image_url': 'https://images.genius.com/df4a816f593b08bc8a361ad58a848640.1000x1000x1.jpg',\n",
       "       'is_meme_verified': True,\n",
       "       'is_verified': True,\n",
       "       'name': 'Taylor Swift',\n",
       "       'url': 'https://genius.com/artists/Taylor-swift',\n",
       "       'iq': 1544}]}},\n",
       "   {'highlights': [],\n",
       "    'index': 'song',\n",
       "    'type': 'song',\n",
       "    'result': {'annotation_count': 20,\n",
       "     'api_path': '/songs/4508914',\n",
       "     'artist_names': 'Taylor Swift',\n",
       "     'full_title': 'Lover by\\xa0Taylor\\xa0Swift',\n",
       "     'header_image_thumbnail_url': 'https://images.genius.com/9c29b54daed86f6243dac0fee0b20bb6.300x300x1.jpg',\n",
       "     'header_image_url': 'https://images.genius.com/9c29b54daed86f6243dac0fee0b20bb6.1000x1000x1.jpg',\n",
       "     'id': 4508914,\n",
       "     'lyrics_owner_id': 8664184,\n",
       "     'lyrics_state': 'complete',\n",
       "     'path': '/Taylor-swift-lover-lyrics',\n",
       "     'primary_artist_names': 'Taylor Swift',\n",
       "     'pyongs_count': 134,\n",
       "     'relationships_index_url': 'https://genius.com/Taylor-swift-lover-sample',\n",
       "     'release_date_components': {'year': 2019, 'month': 8, 'day': 16},\n",
       "     'release_date_for_display': 'August 16, 2019',\n",
       "     'release_date_with_abbreviated_month_for_display': 'Aug. 16, 2019',\n",
       "     'song_art_image_thumbnail_url': 'https://images.genius.com/ef7309e1b3e6fae42a331b84076f68e6.300x300x1.jpg',\n",
       "     'song_art_image_url': 'https://images.genius.com/ef7309e1b3e6fae42a331b84076f68e6.1000x1000x1.jpg',\n",
       "     'stats': {'unreviewed_annotations': 1,\n",
       "      'hot': False,\n",
       "      'pageviews': 2592047},\n",
       "     'title': 'Lover',\n",
       "     'title_with_featured': 'Lover',\n",
       "     'url': 'https://genius.com/Taylor-swift-lover-lyrics',\n",
       "     'featured_artists': [],\n",
       "     'primary_artist': {'api_path': '/artists/1177',\n",
       "      'header_image_url': 'https://images.genius.com/1290896984554842b40f2450be157203.1000x333x1.jpg',\n",
       "      'id': 1177,\n",
       "      'image_url': 'https://images.genius.com/df4a816f593b08bc8a361ad58a848640.1000x1000x1.jpg',\n",
       "      'is_meme_verified': True,\n",
       "      'is_verified': True,\n",
       "      'name': 'Taylor Swift',\n",
       "      'url': 'https://genius.com/artists/Taylor-swift',\n",
       "      'iq': 1544},\n",
       "     'primary_artists': [{'api_path': '/artists/1177',\n",
       "       'header_image_url': 'https://images.genius.com/1290896984554842b40f2450be157203.1000x333x1.jpg',\n",
       "       'id': 1177,\n",
       "       'image_url': 'https://images.genius.com/df4a816f593b08bc8a361ad58a848640.1000x1000x1.jpg',\n",
       "       'is_meme_verified': True,\n",
       "       'is_verified': True,\n",
       "       'name': 'Taylor Swift',\n",
       "       'url': 'https://genius.com/artists/Taylor-swift',\n",
       "       'iq': 1544}]}},\n",
       "   {'highlights': [],\n",
       "    'index': 'song',\n",
       "    'type': 'song',\n",
       "    'result': {'annotation_count': 23,\n",
       "     'api_path': '/songs/10024578',\n",
       "     'artist_names': 'Taylor Swift',\n",
       "     'full_title': 'The Tortured Poets Department by\\xa0Taylor\\xa0Swift',\n",
       "     'header_image_thumbnail_url': 'https://images.genius.com/48394cc3d17656b89aec73549d8863b6.300x300x1.png',\n",
       "     'header_image_url': 'https://images.genius.com/48394cc3d17656b89aec73549d8863b6.1000x1000x1.png',\n",
       "     'id': 10024578,\n",
       "     'lyrics_owner_id': 6877117,\n",
       "     'lyrics_state': 'complete',\n",
       "     'path': '/Taylor-swift-the-tortured-poets-department-lyrics',\n",
       "     'primary_artist_names': 'Taylor Swift',\n",
       "     'pyongs_count': 8,\n",
       "     'relationships_index_url': 'https://genius.com/Taylor-swift-the-tortured-poets-department-sample',\n",
       "     'release_date_components': {'year': 2024, 'month': 4, 'day': 19},\n",
       "     'release_date_for_display': 'April 19, 2024',\n",
       "     'release_date_with_abbreviated_month_for_display': 'Apr. 19, 2024',\n",
       "     'song_art_image_thumbnail_url': 'https://images.genius.com/48394cc3d17656b89aec73549d8863b6.300x300x1.png',\n",
       "     'song_art_image_url': 'https://images.genius.com/48394cc3d17656b89aec73549d8863b6.1000x1000x1.png',\n",
       "     'stats': {'unreviewed_annotations': 18,\n",
       "      'concurrents': 6,\n",
       "      'hot': False,\n",
       "      'pageviews': 2582612},\n",
       "     'title': 'The Tortured Poets Department',\n",
       "     'title_with_featured': 'The Tortured Poets Department',\n",
       "     'url': 'https://genius.com/Taylor-swift-the-tortured-poets-department-lyrics',\n",
       "     'featured_artists': [],\n",
       "     'primary_artist': {'api_path': '/artists/1177',\n",
       "      'header_image_url': 'https://images.genius.com/1290896984554842b40f2450be157203.1000x333x1.jpg',\n",
       "      'id': 1177,\n",
       "      'image_url': 'https://images.genius.com/df4a816f593b08bc8a361ad58a848640.1000x1000x1.jpg',\n",
       "      'is_meme_verified': True,\n",
       "      'is_verified': True,\n",
       "      'name': 'Taylor Swift',\n",
       "      'url': 'https://genius.com/artists/Taylor-swift',\n",
       "      'iq': 1544},\n",
       "     'primary_artists': [{'api_path': '/artists/1177',\n",
       "       'header_image_url': 'https://images.genius.com/1290896984554842b40f2450be157203.1000x333x1.jpg',\n",
       "       'id': 1177,\n",
       "       'image_url': 'https://images.genius.com/df4a816f593b08bc8a361ad58a848640.1000x1000x1.jpg',\n",
       "       'is_meme_verified': True,\n",
       "       'is_verified': True,\n",
       "       'name': 'Taylor Swift',\n",
       "       'url': 'https://genius.com/artists/Taylor-swift',\n",
       "       'iq': 1544}]}},\n",
       "   {'highlights': [],\n",
       "    'index': 'song',\n",
       "    'type': 'song',\n",
       "    'result': {'annotation_count': 20,\n",
       "     'api_path': '/songs/10024535',\n",
       "     'artist_names': 'Taylor Swift',\n",
       "     'full_title': 'Down Bad by\\xa0Taylor\\xa0Swift',\n",
       "     'header_image_thumbnail_url': 'https://images.genius.com/48394cc3d17656b89aec73549d8863b6.300x300x1.png',\n",
       "     'header_image_url': 'https://images.genius.com/48394cc3d17656b89aec73549d8863b6.1000x1000x1.png',\n",
       "     'id': 10024535,\n",
       "     'lyrics_owner_id': 7206332,\n",
       "     'lyrics_state': 'complete',\n",
       "     'path': '/Taylor-swift-down-bad-lyrics',\n",
       "     'primary_artist_names': 'Taylor Swift',\n",
       "     'pyongs_count': 9,\n",
       "     'relationships_index_url': 'https://genius.com/Taylor-swift-down-bad-sample',\n",
       "     'release_date_components': {'year': 2024, 'month': 4, 'day': 19},\n",
       "     'release_date_for_display': 'April 19, 2024',\n",
       "     'release_date_with_abbreviated_month_for_display': 'Apr. 19, 2024',\n",
       "     'song_art_image_thumbnail_url': 'https://images.genius.com/48394cc3d17656b89aec73549d8863b6.300x300x1.png',\n",
       "     'song_art_image_url': 'https://images.genius.com/48394cc3d17656b89aec73549d8863b6.1000x1000x1.png',\n",
       "     'stats': {'unreviewed_annotations': 18,\n",
       "      'concurrents': 3,\n",
       "      'hot': False,\n",
       "      'pageviews': 2467300},\n",
       "     'title': 'Down Bad',\n",
       "     'title_with_featured': 'Down Bad',\n",
       "     'url': 'https://genius.com/Taylor-swift-down-bad-lyrics',\n",
       "     'featured_artists': [],\n",
       "     'primary_artist': {'api_path': '/artists/1177',\n",
       "      'header_image_url': 'https://images.genius.com/1290896984554842b40f2450be157203.1000x333x1.jpg',\n",
       "      'id': 1177,\n",
       "      'image_url': 'https://images.genius.com/df4a816f593b08bc8a361ad58a848640.1000x1000x1.jpg',\n",
       "      'is_meme_verified': True,\n",
       "      'is_verified': True,\n",
       "      'name': 'Taylor Swift',\n",
       "      'url': 'https://genius.com/artists/Taylor-swift',\n",
       "      'iq': 1544},\n",
       "     'primary_artists': [{'api_path': '/artists/1177',\n",
       "       'header_image_url': 'https://images.genius.com/1290896984554842b40f2450be157203.1000x333x1.jpg',\n",
       "       'id': 1177,\n",
       "       'image_url': 'https://images.genius.com/df4a816f593b08bc8a361ad58a848640.1000x1000x1.jpg',\n",
       "       'is_meme_verified': True,\n",
       "       'is_verified': True,\n",
       "       'name': 'Taylor Swift',\n",
       "       'url': 'https://genius.com/artists/Taylor-swift',\n",
       "       'iq': 1544}]}},\n",
       "   {'highlights': [],\n",
       "    'index': 'song',\n",
       "    'type': 'song',\n",
       "    'result': {'annotation_count': 19,\n",
       "     'api_path': '/songs/5794073',\n",
       "     'artist_names': 'Taylor Swift',\n",
       "     'full_title': '\\u200bthe 1 by\\xa0Taylor\\xa0Swift',\n",
       "     'header_image_thumbnail_url': 'https://images.genius.com/4a6a06f7e361703062b0db46d0e4ec36.300x300x1.png',\n",
       "     'header_image_url': 'https://images.genius.com/4a6a06f7e361703062b0db46d0e4ec36.1000x1000x1.png',\n",
       "     'id': 5794073,\n",
       "     'lyrics_owner_id': 4335922,\n",
       "     'lyrics_state': 'complete',\n",
       "     'path': '/Taylor-swift-the-1-lyrics',\n",
       "     'primary_artist_names': 'Taylor Swift',\n",
       "     'pyongs_count': 103,\n",
       "     'relationships_index_url': 'https://genius.com/Taylor-swift-the-1-sample',\n",
       "     'release_date_components': {'year': 2020, 'month': 7, 'day': 24},\n",
       "     'release_date_for_display': 'July 24, 2020',\n",
       "     'release_date_with_abbreviated_month_for_display': 'Jul. 24, 2020',\n",
       "     'song_art_image_thumbnail_url': 'https://images.genius.com/4a6a06f7e361703062b0db46d0e4ec36.300x300x1.png',\n",
       "     'song_art_image_url': 'https://images.genius.com/4a6a06f7e361703062b0db46d0e4ec36.1000x1000x1.png',\n",
       "     'stats': {'unreviewed_annotations': 3,\n",
       "      'concurrents': 3,\n",
       "      'hot': False,\n",
       "      'pageviews': 2458451},\n",
       "     'title': '\\u200bthe 1',\n",
       "     'title_with_featured': '\\u200bthe 1',\n",
       "     'url': 'https://genius.com/Taylor-swift-the-1-lyrics',\n",
       "     'featured_artists': [],\n",
       "     'primary_artist': {'api_path': '/artists/1177',\n",
       "      'header_image_url': 'https://images.genius.com/1290896984554842b40f2450be157203.1000x333x1.jpg',\n",
       "      'id': 1177,\n",
       "      'image_url': 'https://images.genius.com/df4a816f593b08bc8a361ad58a848640.1000x1000x1.jpg',\n",
       "      'is_meme_verified': True,\n",
       "      'is_verified': True,\n",
       "      'name': 'Taylor Swift',\n",
       "      'url': 'https://genius.com/artists/Taylor-swift',\n",
       "      'iq': 1544},\n",
       "     'primary_artists': [{'api_path': '/artists/1177',\n",
       "       'header_image_url': 'https://images.genius.com/1290896984554842b40f2450be157203.1000x333x1.jpg',\n",
       "       'id': 1177,\n",
       "       'image_url': 'https://images.genius.com/df4a816f593b08bc8a361ad58a848640.1000x1000x1.jpg',\n",
       "       'is_meme_verified': True,\n",
       "       'is_verified': True,\n",
       "       'name': 'Taylor Swift',\n",
       "       'url': 'https://genius.com/artists/Taylor-swift',\n",
       "       'iq': 1544}]}},\n",
       "   {'highlights': [],\n",
       "    'index': 'song',\n",
       "    'type': 'song',\n",
       "    'result': {'annotation_count': 25,\n",
       "     'api_path': '/songs/10024520',\n",
       "     'artist_names': 'Taylor Swift',\n",
       "     'full_title': 'But Daddy I Love Him by\\xa0Taylor\\xa0Swift',\n",
       "     'header_image_thumbnail_url': 'https://images.genius.com/48394cc3d17656b89aec73549d8863b6.300x300x1.png',\n",
       "     'header_image_url': 'https://images.genius.com/48394cc3d17656b89aec73549d8863b6.1000x1000x1.png',\n",
       "     'id': 10024520,\n",
       "     'lyrics_owner_id': 13062016,\n",
       "     'lyrics_state': 'complete',\n",
       "     'path': '/Taylor-swift-but-daddy-i-love-him-lyrics',\n",
       "     'primary_artist_names': 'Taylor Swift',\n",
       "     'pyongs_count': 14,\n",
       "     'relationships_index_url': 'https://genius.com/Taylor-swift-but-daddy-i-love-him-sample',\n",
       "     'release_date_components': {'year': 2024, 'month': 4, 'day': 19},\n",
       "     'release_date_for_display': 'April 19, 2024',\n",
       "     'release_date_with_abbreviated_month_for_display': 'Apr. 19, 2024',\n",
       "     'song_art_image_thumbnail_url': 'https://images.genius.com/48394cc3d17656b89aec73549d8863b6.300x300x1.png',\n",
       "     'song_art_image_url': 'https://images.genius.com/48394cc3d17656b89aec73549d8863b6.1000x1000x1.png',\n",
       "     'stats': {'unreviewed_annotations': 18,\n",
       "      'concurrents': 3,\n",
       "      'hot': False,\n",
       "      'pageviews': 2431301},\n",
       "     'title': 'But Daddy I Love Him',\n",
       "     'title_with_featured': 'But Daddy I Love Him',\n",
       "     'url': 'https://genius.com/Taylor-swift-but-daddy-i-love-him-lyrics',\n",
       "     'featured_artists': [],\n",
       "     'primary_artist': {'api_path': '/artists/1177',\n",
       "      'header_image_url': 'https://images.genius.com/1290896984554842b40f2450be157203.1000x333x1.jpg',\n",
       "      'id': 1177,\n",
       "      'image_url': 'https://images.genius.com/df4a816f593b08bc8a361ad58a848640.1000x1000x1.jpg',\n",
       "      'is_meme_verified': True,\n",
       "      'is_verified': True,\n",
       "      'name': 'Taylor Swift',\n",
       "      'url': 'https://genius.com/artists/Taylor-swift',\n",
       "      'iq': 1544},\n",
       "     'primary_artists': [{'api_path': '/artists/1177',\n",
       "       'header_image_url': 'https://images.genius.com/1290896984554842b40f2450be157203.1000x333x1.jpg',\n",
       "       'id': 1177,\n",
       "       'image_url': 'https://images.genius.com/df4a816f593b08bc8a361ad58a848640.1000x1000x1.jpg',\n",
       "       'is_meme_verified': True,\n",
       "       'is_verified': True,\n",
       "       'name': 'Taylor Swift',\n",
       "       'url': 'https://genius.com/artists/Taylor-swift',\n",
       "       'iq': 1544}]}}]}}"
      ]
     },
     "execution_count": 24,
     "metadata": {},
     "output_type": "execute_result"
    }
   ],
   "source": [
    "tswift_json = json.loads(tswift.text)\n",
    "tswift_json"
   ]
  },
  {
   "cell_type": "code",
   "execution_count": 30,
   "metadata": {},
   "outputs": [
    {
     "name": "stdout",
     "output_type": "stream",
     "text": [
      "All Too Well (10 Minute Version) (Taylor's Version) [From The Vault] by Taylor Swift\n",
      "All Too Well (10 Minute Version) (Taylor's Version) [Live Acoustic] by Taylor Swift\n",
      "Fortnight by Taylor Swift (Ft. Post Malone)\n",
      "​cardigan by Taylor Swift\n",
      "​exile by Taylor Swift (Ft. Bon Iver)\n",
      "Lover by Taylor Swift\n",
      "The Tortured Poets Department by Taylor Swift\n",
      "Down Bad by Taylor Swift\n",
      "​the 1 by Taylor Swift\n",
      "But Daddy I Love Him by Taylor Swift\n"
     ]
    }
   ],
   "source": [
    "for song in tswift_json['response']['hits']:\n",
    "    print(song['result']['full_title'])"
   ]
  },
  {
   "cell_type": "code",
   "execution_count": 31,
   "metadata": {},
   "outputs": [
    {
     "name": "stdout",
     "output_type": "stream",
     "text": [
      "{'annotation_count': 49, 'api_path': '/songs/7076626', 'artist_names': 'Taylor Swift', 'full_title': \"All Too Well (10 Minute Version) (Taylor's Version) [From The Vault] by\\xa0Taylor\\xa0Swift\", 'header_image_thumbnail_url': 'https://images.genius.com/aac8ea3f13ae887a7f1fd9cdd451374e.300x300x1.png', 'header_image_url': 'https://images.genius.com/aac8ea3f13ae887a7f1fd9cdd451374e.1000x1000x1.png', 'id': 7076626, 'lyrics_owner_id': 12603744, 'lyrics_state': 'complete', 'path': '/Taylor-swift-all-too-well-10-minute-version-taylors-version-from-the-vault-lyrics', 'primary_artist_names': 'Taylor Swift', 'pyongs_count': 223, 'relationships_index_url': 'https://genius.com/Taylor-swift-all-too-well-10-minute-version-taylors-version-from-the-vault-sample', 'release_date_components': {'year': 2021, 'month': 11, 'day': 12}, 'release_date_for_display': 'November 12, 2021', 'release_date_with_abbreviated_month_for_display': 'Nov. 12, 2021', 'song_art_image_thumbnail_url': 'https://images.genius.com/9dd4ba749dd51d39d7b56b67b9cc3777.300x300x1.jpg', 'song_art_image_url': 'https://images.genius.com/9dd4ba749dd51d39d7b56b67b9cc3777.1000x1000x1.jpg', 'stats': {'unreviewed_annotations': 12, 'concurrents': 13, 'hot': False, 'pageviews': 4889469}, 'title': 'All Too Well (10 Minute Version) (Taylor’s Version) [From The Vault]', 'title_with_featured': \"All Too Well (10 Minute Version) (Taylor's Version) [From The Vault]\", 'url': 'https://genius.com/Taylor-swift-all-too-well-10-minute-version-taylors-version-from-the-vault-lyrics', 'featured_artists': [], 'primary_artist': {'api_path': '/artists/1177', 'header_image_url': 'https://images.genius.com/1290896984554842b40f2450be157203.1000x333x1.jpg', 'id': 1177, 'image_url': 'https://images.genius.com/df4a816f593b08bc8a361ad58a848640.1000x1000x1.jpg', 'is_meme_verified': True, 'is_verified': True, 'name': 'Taylor Swift', 'url': 'https://genius.com/artists/Taylor-swift', 'iq': 1544}, 'primary_artists': [{'api_path': '/artists/1177', 'header_image_url': 'https://images.genius.com/1290896984554842b40f2450be157203.1000x333x1.jpg', 'id': 1177, 'image_url': 'https://images.genius.com/df4a816f593b08bc8a361ad58a848640.1000x1000x1.jpg', 'is_meme_verified': True, 'is_verified': True, 'name': 'Taylor Swift', 'url': 'https://genius.com/artists/Taylor-swift', 'iq': 1544}]}\n",
      "{'annotation_count': 35, 'api_path': '/songs/7394358', 'artist_names': 'Taylor Swift', 'full_title': \"All Too Well (10 Minute Version) (Taylor's Version) [Live Acoustic] by\\xa0Taylor\\xa0Swift\", 'header_image_thumbnail_url': 'https://images.genius.com/fb18a1248bb4cd26893dea7e3610b0d5.300x300x1.jpg', 'header_image_url': 'https://images.genius.com/fb18a1248bb4cd26893dea7e3610b0d5.1000x1000x1.jpg', 'id': 7394358, 'lyrics_owner_id': 6878633, 'lyrics_state': 'complete', 'path': '/Taylor-swift-all-too-well-10-minute-version-taylors-version-live-acoustic-lyrics', 'primary_artist_names': 'Taylor Swift', 'pyongs_count': 52, 'relationships_index_url': 'https://genius.com/Taylor-swift-all-too-well-10-minute-version-taylors-version-live-acoustic-sample', 'release_date_components': {'year': 2021, 'month': 11, 'day': 15}, 'release_date_for_display': 'November 15, 2021', 'release_date_with_abbreviated_month_for_display': 'Nov. 15, 2021', 'song_art_image_thumbnail_url': 'https://images.genius.com/fb18a1248bb4cd26893dea7e3610b0d5.300x300x1.jpg', 'song_art_image_url': 'https://images.genius.com/fb18a1248bb4cd26893dea7e3610b0d5.1000x1000x1.jpg', 'stats': {'unreviewed_annotations': 7, 'concurrents': 3, 'hot': False, 'pageviews': 3934914}, 'title': 'All Too Well (10 Minute Version) (Taylor’s Version) [Live Acoustic]', 'title_with_featured': \"All Too Well (10 Minute Version) (Taylor's Version) [Live Acoustic]\", 'url': 'https://genius.com/Taylor-swift-all-too-well-10-minute-version-taylors-version-live-acoustic-lyrics', 'featured_artists': [], 'primary_artist': {'api_path': '/artists/1177', 'header_image_url': 'https://images.genius.com/1290896984554842b40f2450be157203.1000x333x1.jpg', 'id': 1177, 'image_url': 'https://images.genius.com/df4a816f593b08bc8a361ad58a848640.1000x1000x1.jpg', 'is_meme_verified': True, 'is_verified': True, 'name': 'Taylor Swift', 'url': 'https://genius.com/artists/Taylor-swift', 'iq': 1544}, 'primary_artists': [{'api_path': '/artists/1177', 'header_image_url': 'https://images.genius.com/1290896984554842b40f2450be157203.1000x333x1.jpg', 'id': 1177, 'image_url': 'https://images.genius.com/df4a816f593b08bc8a361ad58a848640.1000x1000x1.jpg', 'is_meme_verified': True, 'is_verified': True, 'name': 'Taylor Swift', 'url': 'https://genius.com/artists/Taylor-swift', 'iq': 1544}]}\n",
      "{'annotation_count': 16, 'api_path': '/songs/10024009', 'artist_names': 'Taylor Swift (Ft. Post Malone)', 'full_title': 'Fortnight by\\xa0Taylor\\xa0Swift (Ft.\\xa0Post\\xa0Malone)', 'header_image_thumbnail_url': 'https://images.genius.com/9e602eb80c004d0302187f908fa5afea.300x300x1.png', 'header_image_url': 'https://images.genius.com/9e602eb80c004d0302187f908fa5afea.1000x1000x1.png', 'id': 10024009, 'lyrics_owner_id': 5748418, 'lyrics_state': 'complete', 'path': '/Taylor-swift-fortnight-lyrics', 'primary_artist_names': 'Taylor Swift', 'pyongs_count': 18, 'relationships_index_url': 'https://genius.com/Taylor-swift-fortnight-sample', 'release_date_components': {'year': 2024, 'month': 4, 'day': 19}, 'release_date_for_display': 'April 19, 2024', 'release_date_with_abbreviated_month_for_display': 'Apr. 19, 2024', 'song_art_image_thumbnail_url': 'https://images.genius.com/9e602eb80c004d0302187f908fa5afea.300x300x1.png', 'song_art_image_url': 'https://images.genius.com/9e602eb80c004d0302187f908fa5afea.1000x1000x1.png', 'stats': {'unreviewed_annotations': 5, 'concurrents': 11, 'hot': False, 'pageviews': 3403976}, 'title': 'Fortnight', 'title_with_featured': 'Fortnight (Ft.\\xa0Post\\xa0Malone)', 'url': 'https://genius.com/Taylor-swift-fortnight-lyrics', 'featured_artists': [{'api_path': '/artists/326362', 'header_image_url': 'https://images.genius.com/1cc70a5e8d2d4c7a16635170b2d8cac1.1000x563x1.jpg', 'id': 326362, 'image_url': 'https://images.genius.com/e4627140404ae42d185c85c2c2c9c339.960x960x1.jpg', 'is_meme_verified': True, 'is_verified': True, 'name': 'Post Malone', 'url': 'https://genius.com/artists/Post-malone', 'iq': 15976}], 'primary_artist': {'api_path': '/artists/1177', 'header_image_url': 'https://images.genius.com/1290896984554842b40f2450be157203.1000x333x1.jpg', 'id': 1177, 'image_url': 'https://images.genius.com/df4a816f593b08bc8a361ad58a848640.1000x1000x1.jpg', 'is_meme_verified': True, 'is_verified': True, 'name': 'Taylor Swift', 'url': 'https://genius.com/artists/Taylor-swift', 'iq': 1544}, 'primary_artists': [{'api_path': '/artists/1177', 'header_image_url': 'https://images.genius.com/1290896984554842b40f2450be157203.1000x333x1.jpg', 'id': 1177, 'image_url': 'https://images.genius.com/df4a816f593b08bc8a361ad58a848640.1000x1000x1.jpg', 'is_meme_verified': True, 'is_verified': True, 'name': 'Taylor Swift', 'url': 'https://genius.com/artists/Taylor-swift', 'iq': 1544}]}\n",
      "{'annotation_count': 26, 'api_path': '/songs/5793984', 'artist_names': 'Taylor Swift', 'full_title': '\\u200bcardigan by\\xa0Taylor\\xa0Swift', 'header_image_thumbnail_url': 'https://images.genius.com/282838f51b2395aba0e0084dd02f1774.300x300x1.png', 'header_image_url': 'https://images.genius.com/282838f51b2395aba0e0084dd02f1774.1000x1000x1.png', 'id': 5793984, 'lyrics_owner_id': 5748418, 'lyrics_state': 'complete', 'path': '/Taylor-swift-cardigan-lyrics', 'primary_artist_names': 'Taylor Swift', 'pyongs_count': 174, 'relationships_index_url': 'https://genius.com/Taylor-swift-cardigan-sample', 'release_date_components': {'year': 2020, 'month': 7, 'day': 24}, 'release_date_for_display': 'July 24, 2020', 'release_date_with_abbreviated_month_for_display': 'Jul. 24, 2020', 'song_art_image_thumbnail_url': 'https://images.genius.com/8c6b44171caaa726820cce35ad8b066e.300x300x1.png', 'song_art_image_url': 'https://images.genius.com/8c6b44171caaa726820cce35ad8b066e.1000x1000x1.png', 'stats': {'unreviewed_annotations': 0, 'concurrents': 2, 'hot': False, 'pageviews': 3282648}, 'title': '\\u200bcardigan', 'title_with_featured': '\\u200bcardigan', 'url': 'https://genius.com/Taylor-swift-cardigan-lyrics', 'featured_artists': [], 'primary_artist': {'api_path': '/artists/1177', 'header_image_url': 'https://images.genius.com/1290896984554842b40f2450be157203.1000x333x1.jpg', 'id': 1177, 'image_url': 'https://images.genius.com/df4a816f593b08bc8a361ad58a848640.1000x1000x1.jpg', 'is_meme_verified': True, 'is_verified': True, 'name': 'Taylor Swift', 'url': 'https://genius.com/artists/Taylor-swift', 'iq': 1544}, 'primary_artists': [{'api_path': '/artists/1177', 'header_image_url': 'https://images.genius.com/1290896984554842b40f2450be157203.1000x333x1.jpg', 'id': 1177, 'image_url': 'https://images.genius.com/df4a816f593b08bc8a361ad58a848640.1000x1000x1.jpg', 'is_meme_verified': True, 'is_verified': True, 'name': 'Taylor Swift', 'url': 'https://genius.com/artists/Taylor-swift', 'iq': 1544}]}\n",
      "{'annotation_count': 20, 'api_path': '/songs/5793983', 'artist_names': 'Taylor Swift (Ft. Bon Iver)', 'full_title': '\\u200bexile by\\xa0Taylor\\xa0Swift (Ft.\\xa0Bon\\xa0Iver)', 'header_image_thumbnail_url': 'https://images.genius.com/4a6a06f7e361703062b0db46d0e4ec36.300x300x1.png', 'header_image_url': 'https://images.genius.com/4a6a06f7e361703062b0db46d0e4ec36.1000x1000x1.png', 'id': 5793983, 'lyrics_owner_id': 3995752, 'lyrics_state': 'complete', 'path': '/Taylor-swift-exile-lyrics', 'primary_artist_names': 'Taylor Swift', 'pyongs_count': 111, 'relationships_index_url': 'https://genius.com/Taylor-swift-exile-sample', 'release_date_components': {'year': 2020, 'month': 7, 'day': 24}, 'release_date_for_display': 'July 24, 2020', 'release_date_with_abbreviated_month_for_display': 'Jul. 24, 2020', 'song_art_image_thumbnail_url': 'https://images.genius.com/4a6a06f7e361703062b0db46d0e4ec36.300x300x1.png', 'song_art_image_url': 'https://images.genius.com/4a6a06f7e361703062b0db46d0e4ec36.1000x1000x1.png', 'stats': {'unreviewed_annotations': 8, 'concurrents': 2, 'hot': False, 'pageviews': 2677991}, 'title': '\\u200bexile', 'title_with_featured': '\\u200bexile (Ft.\\xa0Bon\\xa0Iver)', 'url': 'https://genius.com/Taylor-swift-exile-lyrics', 'featured_artists': [{'api_path': '/artists/589', 'header_image_url': 'https://images.genius.com/68ae4abb1941980b728eea32c64e11ed.975x180x1.png', 'id': 589, 'image_url': 'https://images.genius.com/f2314f39e56a73d1fb5a716bbe154556.1000x1000x1.jpg', 'is_meme_verified': False, 'is_verified': False, 'name': 'Bon Iver', 'url': 'https://genius.com/artists/Bon-iver'}], 'primary_artist': {'api_path': '/artists/1177', 'header_image_url': 'https://images.genius.com/1290896984554842b40f2450be157203.1000x333x1.jpg', 'id': 1177, 'image_url': 'https://images.genius.com/df4a816f593b08bc8a361ad58a848640.1000x1000x1.jpg', 'is_meme_verified': True, 'is_verified': True, 'name': 'Taylor Swift', 'url': 'https://genius.com/artists/Taylor-swift', 'iq': 1544}, 'primary_artists': [{'api_path': '/artists/1177', 'header_image_url': 'https://images.genius.com/1290896984554842b40f2450be157203.1000x333x1.jpg', 'id': 1177, 'image_url': 'https://images.genius.com/df4a816f593b08bc8a361ad58a848640.1000x1000x1.jpg', 'is_meme_verified': True, 'is_verified': True, 'name': 'Taylor Swift', 'url': 'https://genius.com/artists/Taylor-swift', 'iq': 1544}]}\n",
      "{'annotation_count': 20, 'api_path': '/songs/4508914', 'artist_names': 'Taylor Swift', 'full_title': 'Lover by\\xa0Taylor\\xa0Swift', 'header_image_thumbnail_url': 'https://images.genius.com/9c29b54daed86f6243dac0fee0b20bb6.300x300x1.jpg', 'header_image_url': 'https://images.genius.com/9c29b54daed86f6243dac0fee0b20bb6.1000x1000x1.jpg', 'id': 4508914, 'lyrics_owner_id': 8664184, 'lyrics_state': 'complete', 'path': '/Taylor-swift-lover-lyrics', 'primary_artist_names': 'Taylor Swift', 'pyongs_count': 134, 'relationships_index_url': 'https://genius.com/Taylor-swift-lover-sample', 'release_date_components': {'year': 2019, 'month': 8, 'day': 16}, 'release_date_for_display': 'August 16, 2019', 'release_date_with_abbreviated_month_for_display': 'Aug. 16, 2019', 'song_art_image_thumbnail_url': 'https://images.genius.com/ef7309e1b3e6fae42a331b84076f68e6.300x300x1.jpg', 'song_art_image_url': 'https://images.genius.com/ef7309e1b3e6fae42a331b84076f68e6.1000x1000x1.jpg', 'stats': {'unreviewed_annotations': 1, 'hot': False, 'pageviews': 2592047}, 'title': 'Lover', 'title_with_featured': 'Lover', 'url': 'https://genius.com/Taylor-swift-lover-lyrics', 'featured_artists': [], 'primary_artist': {'api_path': '/artists/1177', 'header_image_url': 'https://images.genius.com/1290896984554842b40f2450be157203.1000x333x1.jpg', 'id': 1177, 'image_url': 'https://images.genius.com/df4a816f593b08bc8a361ad58a848640.1000x1000x1.jpg', 'is_meme_verified': True, 'is_verified': True, 'name': 'Taylor Swift', 'url': 'https://genius.com/artists/Taylor-swift', 'iq': 1544}, 'primary_artists': [{'api_path': '/artists/1177', 'header_image_url': 'https://images.genius.com/1290896984554842b40f2450be157203.1000x333x1.jpg', 'id': 1177, 'image_url': 'https://images.genius.com/df4a816f593b08bc8a361ad58a848640.1000x1000x1.jpg', 'is_meme_verified': True, 'is_verified': True, 'name': 'Taylor Swift', 'url': 'https://genius.com/artists/Taylor-swift', 'iq': 1544}]}\n",
      "{'annotation_count': 23, 'api_path': '/songs/10024578', 'artist_names': 'Taylor Swift', 'full_title': 'The Tortured Poets Department by\\xa0Taylor\\xa0Swift', 'header_image_thumbnail_url': 'https://images.genius.com/48394cc3d17656b89aec73549d8863b6.300x300x1.png', 'header_image_url': 'https://images.genius.com/48394cc3d17656b89aec73549d8863b6.1000x1000x1.png', 'id': 10024578, 'lyrics_owner_id': 6877117, 'lyrics_state': 'complete', 'path': '/Taylor-swift-the-tortured-poets-department-lyrics', 'primary_artist_names': 'Taylor Swift', 'pyongs_count': 8, 'relationships_index_url': 'https://genius.com/Taylor-swift-the-tortured-poets-department-sample', 'release_date_components': {'year': 2024, 'month': 4, 'day': 19}, 'release_date_for_display': 'April 19, 2024', 'release_date_with_abbreviated_month_for_display': 'Apr. 19, 2024', 'song_art_image_thumbnail_url': 'https://images.genius.com/48394cc3d17656b89aec73549d8863b6.300x300x1.png', 'song_art_image_url': 'https://images.genius.com/48394cc3d17656b89aec73549d8863b6.1000x1000x1.png', 'stats': {'unreviewed_annotations': 18, 'concurrents': 6, 'hot': False, 'pageviews': 2582612}, 'title': 'The Tortured Poets Department', 'title_with_featured': 'The Tortured Poets Department', 'url': 'https://genius.com/Taylor-swift-the-tortured-poets-department-lyrics', 'featured_artists': [], 'primary_artist': {'api_path': '/artists/1177', 'header_image_url': 'https://images.genius.com/1290896984554842b40f2450be157203.1000x333x1.jpg', 'id': 1177, 'image_url': 'https://images.genius.com/df4a816f593b08bc8a361ad58a848640.1000x1000x1.jpg', 'is_meme_verified': True, 'is_verified': True, 'name': 'Taylor Swift', 'url': 'https://genius.com/artists/Taylor-swift', 'iq': 1544}, 'primary_artists': [{'api_path': '/artists/1177', 'header_image_url': 'https://images.genius.com/1290896984554842b40f2450be157203.1000x333x1.jpg', 'id': 1177, 'image_url': 'https://images.genius.com/df4a816f593b08bc8a361ad58a848640.1000x1000x1.jpg', 'is_meme_verified': True, 'is_verified': True, 'name': 'Taylor Swift', 'url': 'https://genius.com/artists/Taylor-swift', 'iq': 1544}]}\n",
      "{'annotation_count': 20, 'api_path': '/songs/10024535', 'artist_names': 'Taylor Swift', 'full_title': 'Down Bad by\\xa0Taylor\\xa0Swift', 'header_image_thumbnail_url': 'https://images.genius.com/48394cc3d17656b89aec73549d8863b6.300x300x1.png', 'header_image_url': 'https://images.genius.com/48394cc3d17656b89aec73549d8863b6.1000x1000x1.png', 'id': 10024535, 'lyrics_owner_id': 7206332, 'lyrics_state': 'complete', 'path': '/Taylor-swift-down-bad-lyrics', 'primary_artist_names': 'Taylor Swift', 'pyongs_count': 9, 'relationships_index_url': 'https://genius.com/Taylor-swift-down-bad-sample', 'release_date_components': {'year': 2024, 'month': 4, 'day': 19}, 'release_date_for_display': 'April 19, 2024', 'release_date_with_abbreviated_month_for_display': 'Apr. 19, 2024', 'song_art_image_thumbnail_url': 'https://images.genius.com/48394cc3d17656b89aec73549d8863b6.300x300x1.png', 'song_art_image_url': 'https://images.genius.com/48394cc3d17656b89aec73549d8863b6.1000x1000x1.png', 'stats': {'unreviewed_annotations': 18, 'concurrents': 3, 'hot': False, 'pageviews': 2467300}, 'title': 'Down Bad', 'title_with_featured': 'Down Bad', 'url': 'https://genius.com/Taylor-swift-down-bad-lyrics', 'featured_artists': [], 'primary_artist': {'api_path': '/artists/1177', 'header_image_url': 'https://images.genius.com/1290896984554842b40f2450be157203.1000x333x1.jpg', 'id': 1177, 'image_url': 'https://images.genius.com/df4a816f593b08bc8a361ad58a848640.1000x1000x1.jpg', 'is_meme_verified': True, 'is_verified': True, 'name': 'Taylor Swift', 'url': 'https://genius.com/artists/Taylor-swift', 'iq': 1544}, 'primary_artists': [{'api_path': '/artists/1177', 'header_image_url': 'https://images.genius.com/1290896984554842b40f2450be157203.1000x333x1.jpg', 'id': 1177, 'image_url': 'https://images.genius.com/df4a816f593b08bc8a361ad58a848640.1000x1000x1.jpg', 'is_meme_verified': True, 'is_verified': True, 'name': 'Taylor Swift', 'url': 'https://genius.com/artists/Taylor-swift', 'iq': 1544}]}\n",
      "{'annotation_count': 19, 'api_path': '/songs/5794073', 'artist_names': 'Taylor Swift', 'full_title': '\\u200bthe 1 by\\xa0Taylor\\xa0Swift', 'header_image_thumbnail_url': 'https://images.genius.com/4a6a06f7e361703062b0db46d0e4ec36.300x300x1.png', 'header_image_url': 'https://images.genius.com/4a6a06f7e361703062b0db46d0e4ec36.1000x1000x1.png', 'id': 5794073, 'lyrics_owner_id': 4335922, 'lyrics_state': 'complete', 'path': '/Taylor-swift-the-1-lyrics', 'primary_artist_names': 'Taylor Swift', 'pyongs_count': 103, 'relationships_index_url': 'https://genius.com/Taylor-swift-the-1-sample', 'release_date_components': {'year': 2020, 'month': 7, 'day': 24}, 'release_date_for_display': 'July 24, 2020', 'release_date_with_abbreviated_month_for_display': 'Jul. 24, 2020', 'song_art_image_thumbnail_url': 'https://images.genius.com/4a6a06f7e361703062b0db46d0e4ec36.300x300x1.png', 'song_art_image_url': 'https://images.genius.com/4a6a06f7e361703062b0db46d0e4ec36.1000x1000x1.png', 'stats': {'unreviewed_annotations': 3, 'concurrents': 3, 'hot': False, 'pageviews': 2458451}, 'title': '\\u200bthe 1', 'title_with_featured': '\\u200bthe 1', 'url': 'https://genius.com/Taylor-swift-the-1-lyrics', 'featured_artists': [], 'primary_artist': {'api_path': '/artists/1177', 'header_image_url': 'https://images.genius.com/1290896984554842b40f2450be157203.1000x333x1.jpg', 'id': 1177, 'image_url': 'https://images.genius.com/df4a816f593b08bc8a361ad58a848640.1000x1000x1.jpg', 'is_meme_verified': True, 'is_verified': True, 'name': 'Taylor Swift', 'url': 'https://genius.com/artists/Taylor-swift', 'iq': 1544}, 'primary_artists': [{'api_path': '/artists/1177', 'header_image_url': 'https://images.genius.com/1290896984554842b40f2450be157203.1000x333x1.jpg', 'id': 1177, 'image_url': 'https://images.genius.com/df4a816f593b08bc8a361ad58a848640.1000x1000x1.jpg', 'is_meme_verified': True, 'is_verified': True, 'name': 'Taylor Swift', 'url': 'https://genius.com/artists/Taylor-swift', 'iq': 1544}]}\n",
      "{'annotation_count': 25, 'api_path': '/songs/10024520', 'artist_names': 'Taylor Swift', 'full_title': 'But Daddy I Love Him by\\xa0Taylor\\xa0Swift', 'header_image_thumbnail_url': 'https://images.genius.com/48394cc3d17656b89aec73549d8863b6.300x300x1.png', 'header_image_url': 'https://images.genius.com/48394cc3d17656b89aec73549d8863b6.1000x1000x1.png', 'id': 10024520, 'lyrics_owner_id': 13062016, 'lyrics_state': 'complete', 'path': '/Taylor-swift-but-daddy-i-love-him-lyrics', 'primary_artist_names': 'Taylor Swift', 'pyongs_count': 14, 'relationships_index_url': 'https://genius.com/Taylor-swift-but-daddy-i-love-him-sample', 'release_date_components': {'year': 2024, 'month': 4, 'day': 19}, 'release_date_for_display': 'April 19, 2024', 'release_date_with_abbreviated_month_for_display': 'Apr. 19, 2024', 'song_art_image_thumbnail_url': 'https://images.genius.com/48394cc3d17656b89aec73549d8863b6.300x300x1.png', 'song_art_image_url': 'https://images.genius.com/48394cc3d17656b89aec73549d8863b6.1000x1000x1.png', 'stats': {'unreviewed_annotations': 18, 'concurrents': 3, 'hot': False, 'pageviews': 2431301}, 'title': 'But Daddy I Love Him', 'title_with_featured': 'But Daddy I Love Him', 'url': 'https://genius.com/Taylor-swift-but-daddy-i-love-him-lyrics', 'featured_artists': [], 'primary_artist': {'api_path': '/artists/1177', 'header_image_url': 'https://images.genius.com/1290896984554842b40f2450be157203.1000x333x1.jpg', 'id': 1177, 'image_url': 'https://images.genius.com/df4a816f593b08bc8a361ad58a848640.1000x1000x1.jpg', 'is_meme_verified': True, 'is_verified': True, 'name': 'Taylor Swift', 'url': 'https://genius.com/artists/Taylor-swift', 'iq': 1544}, 'primary_artists': [{'api_path': '/artists/1177', 'header_image_url': 'https://images.genius.com/1290896984554842b40f2450be157203.1000x333x1.jpg', 'id': 1177, 'image_url': 'https://images.genius.com/df4a816f593b08bc8a361ad58a848640.1000x1000x1.jpg', 'is_meme_verified': True, 'is_verified': True, 'name': 'Taylor Swift', 'url': 'https://genius.com/artists/Taylor-swift', 'iq': 1544}]}\n"
     ]
    }
   ],
   "source": [
    "for song in tswift_json['response']['hits']:\n",
    "    print(song['result'])\n",
    "    "
   ]
  },
  {
   "cell_type": "code",
   "execution_count": 33,
   "metadata": {},
   "outputs": [
    {
     "data": {
      "text/plain": [
       "<Response [200]>"
      ]
     },
     "execution_count": 33,
     "metadata": {},
     "output_type": "execute_result"
    }
   ],
   "source": [
    "tswift_song = requests.get('http://api.genius.com/songs/7076626',params={'access_token': CLIENT_ACCESS_TOKEN})\n",
    "tswift_song"
   ]
  },
  {
   "cell_type": "code",
   "execution_count": null,
   "metadata": {},
   "outputs": [
    {
     "name": "stdout",
     "output_type": "stream",
     "text": [
      "Requirement already satisfied: lyricsgenius in /Library/Frameworks/Python.framework/Versions/3.12/lib/python3.12/site-packages (3.0.1)\n",
      "Requirement already satisfied: beautifulsoup4>=4.6.0 in /Library/Frameworks/Python.framework/Versions/3.12/lib/python3.12/site-packages (from lyricsgenius) (4.12.3)\n",
      "Requirement already satisfied: requests>=2.20.0 in /Library/Frameworks/Python.framework/Versions/3.12/lib/python3.12/site-packages (from lyricsgenius) (2.32.2)\n",
      "Requirement already satisfied: soupsieve>1.2 in /Library/Frameworks/Python.framework/Versions/3.12/lib/python3.12/site-packages (from beautifulsoup4>=4.6.0->lyricsgenius) (2.5)\n",
      "Requirement already satisfied: charset-normalizer<4,>=2 in /Library/Frameworks/Python.framework/Versions/3.12/lib/python3.12/site-packages (from requests>=2.20.0->lyricsgenius) (3.3.2)\n",
      "Requirement already satisfied: idna<4,>=2.5 in /Library/Frameworks/Python.framework/Versions/3.12/lib/python3.12/site-packages (from requests>=2.20.0->lyricsgenius) (3.7)\n",
      "Requirement already satisfied: urllib3<3,>=1.21.1 in /Library/Frameworks/Python.framework/Versions/3.12/lib/python3.12/site-packages (from requests>=2.20.0->lyricsgenius) (2.2.1)\n",
      "Requirement already satisfied: certifi>=2017.4.17 in /Library/Frameworks/Python.framework/Versions/3.12/lib/python3.12/site-packages (from requests>=2.20.0->lyricsgenius) (2024.2.2)\n",
      "\n",
      "\u001b[1m[\u001b[0m\u001b[34;49mnotice\u001b[0m\u001b[1;39;49m]\u001b[0m\u001b[39;49m A new release of pip is available: \u001b[0m\u001b[31;49m24.0\u001b[0m\u001b[39;49m -> \u001b[0m\u001b[32;49m24.1\u001b[0m\n",
      "\u001b[1m[\u001b[0m\u001b[34;49mnotice\u001b[0m\u001b[1;39;49m]\u001b[0m\u001b[39;49m To update, run: \u001b[0m\u001b[32;49mpip3 install --upgrade pip\u001b[0m\n",
      "Note: you may need to restart the kernel to use updated packages.\n"
     ]
    }
   ],
   "source": [
    "pip install lyricsgenius"
   ]
  },
  {
   "cell_type": "code",
   "execution_count": 42,
   "metadata": {},
   "outputs": [],
   "source": [
    "import lyricsgenius\n",
    "genius = lyricsgenius.Genius(CLIENT_ACCESS_TOKEN)"
   ]
  },
  {
   "cell_type": "code",
   "execution_count": 51,
   "metadata": {},
   "outputs": [
    {
     "name": "stdout",
     "output_type": "stream",
     "text": [
      "Searching for songs by Peso Pluma...\n",
      "\n",
      "Song 1: \"14 - 14\"\n",
      "Song 2: \"18/02\"\n",
      "Song 3: \"30 Tiros\"\n",
      "Song 4: \"AMG (Apple Music Live)\"\n",
      "Song 5: \"BackPack Boyz\"\n",
      "Song 6: \"BRUCE WAYNE\"\n",
      "Song 7: \"BYE\"\n",
      "Song 8: \"BYE (Apple Music)\"\n",
      "Song 9: \"Bzrp Music Sessions, Vol. 55 (Apple Music Live)\"\n",
      "Song 10: \"Con Dinero Baila el Perro\"\n",
      "\n",
      "Reached user-specified song limit (10).\n",
      "Done. Found 10 songs.\n"
     ]
    }
   ],
   "source": [
    "song = genius.search_artist('Peso Pluma', max_songs=10, sort='title')\n"
   ]
  },
  {
   "cell_type": "code",
   "execution_count": 52,
   "metadata": {},
   "outputs": [
    {
     "ename": "NameError",
     "evalue": "name 'artist_name' is not defined",
     "output_type": "error",
     "traceback": [
      "\u001b[0;31m---------------------------------------------------------------------------\u001b[0m",
      "\u001b[0;31mNameError\u001b[0m                                 Traceback (most recent call last)",
      "Cell \u001b[0;32mIn[52], line 1\u001b[0m\n\u001b[0;32m----> 1\u001b[0m song \u001b[38;5;241m=\u001b[39m genius\u001b[38;5;241m.\u001b[39msearch_song(\u001b[38;5;124mr\u001b[39m\u001b[38;5;124m\"\u001b[39m\u001b[38;5;124mCon Dinero Baila el Perro\u001b[39m\u001b[38;5;124m\"\u001b[39m, \u001b[43martist_name\u001b[49m)\n",
      "\u001b[0;31mNameError\u001b[0m: name 'artist_name' is not defined"
     ]
    }
   ],
   "source": [
    "song = genius.search_song(r\"Con Dinero Baila el Perro\", artist_name)"
   ]
  },
  {
   "cell_type": "code",
   "execution_count": 54,
   "metadata": {},
   "outputs": [
    {
     "name": "stdout",
     "output_type": "stream",
     "text": [
      "Requirement already satisfied: python-dotenv in /Library/Frameworks/Python.framework/Versions/3.12/lib/python3.12/site-packages (1.0.1)\n",
      "\n",
      "\u001b[1m[\u001b[0m\u001b[34;49mnotice\u001b[0m\u001b[1;39;49m]\u001b[0m\u001b[39;49m A new release of pip is available: \u001b[0m\u001b[31;49m24.0\u001b[0m\u001b[39;49m -> \u001b[0m\u001b[32;49m24.1\u001b[0m\n",
      "\u001b[1m[\u001b[0m\u001b[34;49mnotice\u001b[0m\u001b[1;39;49m]\u001b[0m\u001b[39;49m To update, run: \u001b[0m\u001b[32;49mpip3 install --upgrade pip\u001b[0m\n",
      "Note: you may need to restart the kernel to use updated packages.\n"
     ]
    }
   ],
   "source": [
    "pip install python-dotenv"
   ]
  },
  {
   "cell_type": "code",
   "execution_count": 56,
   "metadata": {},
   "outputs": [],
   "source": [
    "import dotenv "
   ]
  },
  {
   "cell_type": "code",
   "execution_count": null,
   "metadata": {},
   "outputs": [],
   "source": [
    "info = 'new info'"
   ]
  },
  {
   "cell_type": "code",
   "execution_count": 2,
   "metadata": {},
   "outputs": [],
   "source": [
    "import numpy as np\n",
    "import pandas as pd\n",
    "import json\n",
    "import time\n",
    "import requests\n",
    "import os\n",
    "import dotenv\n",
    "from bs4 import BeautifulSoup\n",
    "from datetime import datetime\n",
    "import re\n",
    "\n"
   ]
  },
  {
   "cell_type": "code",
   "execution_count": 70,
   "metadata": {},
   "outputs": [],
   "source": [
    "api_key = os.getenv(\"access_api\")\n",
    "api_key"
   ]
  },
  {
   "cell_type": "code",
   "execution_count": 20,
   "metadata": {},
   "outputs": [
    {
     "data": {
      "text/plain": [
       "False"
      ]
     },
     "execution_count": 20,
     "metadata": {},
     "output_type": "execute_result"
    }
   ],
   "source": [
    "dotenv.load_dotenv()"
   ]
  },
  {
   "cell_type": "code",
   "execution_count": 3,
   "metadata": {},
   "outputs": [],
   "source": [
    "from bs4 import BeautifulSoup"
   ]
  },
  {
   "cell_type": "code",
   "execution_count": 6,
   "metadata": {},
   "outputs": [
    {
     "data": {
      "text/plain": [
       "<Response [200]>"
      ]
     },
     "execution_count": 6,
     "metadata": {},
     "output_type": "execute_result"
    }
   ],
   "source": [
    "headers = {\"name\": \"josh\", \"email\":\"joshuapulido45@ymail.com\"}\n",
    "\n",
    "r = requests.get('https://en.wikipedia.org/wiki/Sports_betting')\n",
    "r"
   ]
  },
  {
   "cell_type": "code",
   "execution_count": 16,
   "metadata": {},
   "outputs": [],
   "source": [
    "soup = BeautifulSoup(r.text)\n",
    "parsed = soup.findAll('div') #soup.fin('something') finds one occurence. soup.findAll('all') finds all occurence"
   ]
  },
  {
   "cell_type": "code",
   "execution_count": 24,
   "metadata": {},
   "outputs": [
    {
     "data": {
      "text/plain": [
       "'\\n\\n^ Preciado, Dan (February 28, 2023). \"States Where Sports Betting Is Legal\". Forbes Betting. Retrieved May 2, 2023.\\n\\n^ \"2012 NBA Finals Playoff Results coverage at VegasInsider.com, The Leader in Sportsbook and Gaming Information - NHL Scores, NHL Matchups, NHL News, NHL Odds, NHL Expert Picks\". www.vegasinsider.com. Retrieved November 14, 2020.\\n\\n^ \"Club History Leicester City\". Retrieved November 14, 2020.\\n\\n^ a b c d e f Killick, Elizabeth; Griffiths, Mark (April 16, 2018). \"In-Play Sports Betting: a Scoping Study\". International Journal of Mental Health and Addiction. 17 (6): 1456–1495. doi:10.1007/s11469-018-9896-6.\\n\\n^ \"18 USC Ch. 50: GAMBLING\". house.gov.\\n\\n^ \"Fifth Circuit ruling\" (PDF). www.caselaw.lp.findlaw.com. Archived from the original (PDF) on July 23, 2008.\\n\\n^ (Davies, 2001)\\n\\n^ \\nCortis, Dominic (2015). \"Expected Values and variance in bookmaker payouts: A Theoretical Approach towards setting limits on odds\". Journal of Prediction Markets. 1. 9 (1): 1–14. doi:10.5750/jpm.v9i1.987.\\n\\n^ \"Interactive Map: Sports Betting in the U.S.\" American Gaming Association. Retrieved January 11, 2024.\\n\\n^ \"Sports betting history: Part II\". Retrieved May 9, 2019.\\n\\n^ \"N.J. Gov. Chris Christie: \"Let them try to stop us\" from sports betting\". Associated Press. May 25, 2012. Retrieved March 16, 2018 – via CBS News.\\n\\n^ \"Sports betting\\'s growth in U.S. \\'extraordinary\\'\". ESPN.com. May 14, 2020. Retrieved May 9, 2021.\\n\\n^ Yakowicz, Will. \"Where Is Sports Betting Legal? A Guide To All 50 States\". Forbes. Retrieved January 20, 2024.\\n\\n^ \"Staatsvertrag zur Neuregulierung des Glücksspielwesens in Deutschland\" (PDF). October 29, 2020.\\n\\n^ \"Attitude to sports betting in the Middle East and the current situation\". November 6, 2023.\\n\\n^ Globe, Bob Hohler. \"An uncertain line between fantasy sports, gambling – The Boston Globe\". BostonGlobe.com. Retrieved February 22, 2023.\\n\\n^ Silver, Adam (November 13, 2014). \"Opinion | Legalize and Regulate Sports Betting\". The New York Times. ISSN\\xa00362-4331. Retrieved February 22, 2023.\\n\\n^ \"Future of sports betting: the marketplace\". October 26, 2016.\\n\\n^ \"Adam Silver\\'s statement regarding Supreme Court\\'s decision to overturn PASPA\". pr.nba.com. May 14, 2018. Retrieved November 29, 2021.\\n\\n^ Rob Manfred: MLB rethinking stance on sports betting – http://www.sportingnews.com/mlb/news/mlb-gambling-rules-rob-manfred-reconsider-pete-rose-hall-of-fame/1dctoqm3i8mvi11ltn6toaigmj\\n\\n^ \"Major League Baseball statement\". MLB.com. MLB Advanced Media. Retrieved November 29, 2021.\\n\\n^ \"Pregame Spread to debut Monday, April 11, at 5 p.m. on MLB Network\". MLB.com. April 6, 2022. Retrieved April 22, 2022.\\n\\n^ \"\\'What\\'s the NFL\\'s end game with gambling?\". ProFootballTalk. March 30, 2017.\\n\\n^ \"Adam Silver on sports betting: My sense is the law will change\". July 19, 2017.\\n\\n^ \"NFL, MLB, NBA, NCAA and others react to Supreme Court decision on sports betting\". usatoday.com. Retrieved November 29, 2021.\\n\\n^ \"NHL Statement on Today\\'s Decision by the U.S. Supreme Court\". media.nhl.com. Retrieved November 29, 2021.\\n\\n^ \"MLS Commish Talks Sports Betting: \\'Bring It Out of the Dark Ages\\'\". March 15, 2017.\\n\\n^ Gleeson, Scott (September 11, 2018). \"Alliance of American Football league, spring alternative to NFL, reveals gambling-focused strategy\". USA TODAY. Retrieved October 2, 2018.\\n\\n^ Rachuk, Stephen (February 2, 2019). A quick recap of Oliver Luck on radio row. Retrieved February 6, 2019.\\n\\n^ \"Casino industry ramps up effort to repeal sports betting ban\". Las Vegas Sun. June 12, 2017.\\n\\n^ \"New NBA, MLB Lobbying Doc: \\'Sports Leagues Should Be Compensated\\'\". Legal Sports Report. February 8, 2018. Retrieved February 13, 2018.\\n\\n^ \"Report: Point-Shaving Inquiry at UNLV: College basketball: Newspaper says federal authorities examining relationship between players and convicted sports fixer Perry\". Los Angeles Times. February 14, 1992. Retrieved December 19, 2021.\\n\\n^ \"ASU Point-Shaving Leader Sentenced\". cbsnews.com. June 30, 1998. Retrieved December 19, 2021.\\n\\n^ \"How US Sports Leagues Evolved on Sports Betting\". sportsbetting3.com. November 12, 2021. Retrieved December 19, 2021.\\n\\n^ \"Supreme Court strikes down sports betting law\". ESPN.com. May 14, 2018. Retrieved February 8, 2022.\\n\\n^ \"What the Supreme Court\\'s sports gambling decision means\". The Washington Post. May 14, 2018. Retrieved February 8, 2022.\\n\\n^ \"NCAA supports federal sports wagering regulation\". ncaa.org. May 17, 2018. Retrieved December 19, 2021.\\n\\n^ Purdum, David (March 21, 2023). \"How Las Vegas became a host city for the NCAA West Regional\". ESPN.com. Retrieved April 10, 2023.\\n\\n^ \"Bylaw 10.3: Sports Wagering Activities\". 2021–22 NCAA Division I Manual (PDF). NCAA. August 1, 2021. pp.\\xa044–45. Retrieved January 19, 2022.\\n\\n^ \"Bylaw 10.3: Sports Wagering Activities\". 2021–22 NCAA Division II Manual (PDF). NCAA. August 1, 2021. pp.\\xa048–49. Retrieved January 19, 2022.\\n\\n^ \"Bylaw 10.3: Sports Wagering Activities\". 2021–22 NCAA Division III Manual (PDF). NCAA. August 1, 2021. pp.\\xa044–45. Retrieved January 19, 2022.\\n\\n^ \"Bylaw 10.3.1: Sports Wagering Activities, Scope of Application\". 2021–22 NCAA Division I Manual (PDF). NCAA. August 1, 2021. p.\\xa045. Retrieved January 19, 2022. Identical language exists in the Division II and Division III manuals.\\n\\n^ \"Bylaw 10.3.1.1: Sports Wagering Activities, Exception\". 2021–22 NCAA Division I Manual (PDF). NCAA. August 1, 2021. p.\\xa045. Retrieved January 19, 2022. Identical language exists in the Division II and Division III manuals.\\n\\n^ \"Sports Wagering\". ncaa.org. Retrieved December 19, 2021.\\n\\n^ \"Know the Rules: Betting, Match Fixing & Inside Information\". The Football Association. Retrieved January 26, 2019.\\n\\n^ \"Rule E8: Betting\". The FA Handbook 2018/2019. The Football Association. Retrieved January 26, 2019.\\n\\n^ \"WBSC Statutes: Sports Betting\". World Baseball Softball Confederation. Retrieved January 26, 2019.\\n\\n^ The International Cricket Council Anti-Corruption Code for Participants, 9 February 2018. Downloadable from the ICC here.\\n\\n^ Finley, 2008\\n\\n^ \"Coiffeur casino mont dore nc\". www.steinmetz-foundation.co.il (in Hebrew). Retrieved November 15, 2021.\\n\\n^ \"The Cronje chronicles\". ESPNcricinfo. Retrieved November 15, 2021.\\n\\n^ \"Hansie Cronje match-fixing scandal: Sanjeev Chawla, the one that got away\". The Indian Express. February 14, 2020. Retrieved November 15, 2021.\\n\\n^ \"How Hansie Cronje became most infamous villain in cricket\\'s fixing scandals\". May 26, 2010. Archived from the original on January 12, 2022. Retrieved June 22, 2013.\\n\\n^ \"No sport easier to fix than tennis\". June 19, 2014. Retrieved November 7, 2014.\\n\\n^ \"Daniel Koellerer banned for life\". May 31, 2011. Retrieved October 20, 2014.\\n\\n^ Bunker, Rory P.; Thabtah, Fadi (September 2017). \"A machine learning framework for sport result prediction\". Applied Computing and Informatics. 15: 27–33. doi:10.1016/j.aci.2017.09.005. ISSN\\xa02210-8327.\\n\\n'"
      ]
     },
     "execution_count": 24,
     "metadata": {},
     "output_type": "execute_result"
    }
   ],
   "source": [
    "soup.find('div',attrs = {'class':'reflist reflist-columns references-column-width'}).text"
   ]
  },
  {
   "cell_type": "code",
   "execution_count": 34,
   "metadata": {},
   "outputs": [],
   "source": [
    "table_info = [s for s in soup.findAll('table') if s.find(string='Conversion formulas')][0]"
   ]
  },
  {
   "cell_type": "code",
   "execution_count": 38,
   "metadata": {},
   "outputs": [],
   "source": [
    "# columns = table header = th\n",
    "cols = [s.text.replace('\\n',' ') for s in table_info.findAll('th')]"
   ]
  },
  {
   "cell_type": "code",
   "execution_count": 40,
   "metadata": {},
   "outputs": [],
   "source": [
    "# rows = table row = tr\n",
    "rows = [s.text.split('\\n')[1:4] for s in table_info.findAll('tr')]"
   ]
  },
  {
   "cell_type": "code",
   "execution_count": 46,
   "metadata": {},
   "outputs": [
    {
     "data": {
      "text/html": [
       "<div>\n",
       "<style scoped>\n",
       "    .dataframe tbody tr th:only-of-type {\n",
       "        vertical-align: middle;\n",
       "    }\n",
       "\n",
       "    .dataframe tbody tr th {\n",
       "        vertical-align: top;\n",
       "    }\n",
       "\n",
       "    .dataframe thead th {\n",
       "        text-align: right;\n",
       "    }\n",
       "</style>\n",
       "<table border=\"1\" class=\"dataframe\">\n",
       "  <thead>\n",
       "    <tr style=\"text-align: right;\">\n",
       "      <th></th>\n",
       "      <th>0</th>\n",
       "    </tr>\n",
       "  </thead>\n",
       "  <tbody>\n",
       "    <tr>\n",
       "      <th>0</th>\n",
       "      <td>x</td>\n",
       "    </tr>\n",
       "    <tr>\n",
       "      <th>1</th>\n",
       "      <td>To</td>\n",
       "    </tr>\n",
       "    <tr>\n",
       "      <th>2</th>\n",
       "      <td>Do this</td>\n",
       "    </tr>\n",
       "  </tbody>\n",
       "</table>\n",
       "</div>"
      ],
      "text/plain": [
       "          0\n",
       "0         x\n",
       "1        To\n",
       "2  Do this "
      ]
     },
     "execution_count": 46,
     "metadata": {},
     "output_type": "execute_result"
    }
   ],
   "source": [
    "pd.DataFrame(cols)"
   ]
  },
  {
   "cell_type": "code",
   "execution_count": null,
   "metadata": {},
   "outputs": [],
   "source": []
  }
 ],
 "metadata": {
  "kernelspec": {
   "display_name": "Python 3",
   "language": "python",
   "name": "python3"
  },
  "language_info": {
   "codemirror_mode": {
    "name": "ipython",
    "version": 3
   },
   "file_extension": ".py",
   "mimetype": "text/x-python",
   "name": "python",
   "nbconvert_exporter": "python",
   "pygments_lexer": "ipython3",
   "version": "3.12.2"
  }
 },
 "nbformat": 4,
 "nbformat_minor": 2
}
